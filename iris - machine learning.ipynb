{
 "cells": [
  {
   "cell_type": "code",
   "execution_count": 1,
   "metadata": {
    "collapsed": true
   },
   "outputs": [],
   "source": [
    "%matplotlib inline\n",
    "\n",
    "import matplotlib.pyplot as plt\n",
    "from sklearn import datasets\n",
    "import pandas as pd\n",
    "import numpy as np\n",
    "import seaborn as sns"
   ]
  },
  {
   "cell_type": "markdown",
   "metadata": {},
   "source": [
    "In this notebook, we're going to do some machine learning.  All of it : 1) classification, 2) regression, 3) clustering.  \n",
    "\n",
    "We'll go through \n",
    "* Defining the test and train data\n",
    "* For each approach:\n",
    " * Fitting a model\n",
    " * Assessing the results with different metrics\n",
    "     * Cross validation\n",
    "     * ROC\n",
    "     * and so on\n",
    " * Refining the hyperparameters"
   ]
  },
  {
   "cell_type": "markdown",
   "metadata": {},
   "source": [
    "## Load the data"
   ]
  },
  {
   "cell_type": "code",
   "execution_count": 88,
   "metadata": {
    "collapsed": true
   },
   "outputs": [],
   "source": [
    "# import some data to play with\n",
    "iris = datasets.load_iris()\n",
    "\n",
    "x = iris.data\n",
    "y = iris.target\n",
    "# array version"
   ]
  },
  {
   "cell_type": "code",
   "execution_count": 92,
   "metadata": {
    "collapsed": false,
    "scrolled": true
   },
   "outputs": [],
   "source": [
    "import random\n",
    "\n",
    "order = range(len(y))\n",
    "random.shuffle(order)\n",
    "\n",
    "# shuffle samples since they are ordered\n",
    "x = x[order,:]\n",
    "y = y[order]"
   ]
  },
  {
   "cell_type": "code",
   "execution_count": 93,
   "metadata": {
    "collapsed": false
   },
   "outputs": [
    {
     "data": {
      "text/html": [
       "<div>\n",
       "<table border=\"1\" class=\"dataframe\">\n",
       "  <thead>\n",
       "    <tr style=\"text-align: right;\">\n",
       "      <th></th>\n",
       "      <th>sepal_length</th>\n",
       "      <th>sepal_width</th>\n",
       "      <th>petal_length</th>\n",
       "      <th>petal_width</th>\n",
       "      <th>species</th>\n",
       "    </tr>\n",
       "  </thead>\n",
       "  <tbody>\n",
       "    <tr>\n",
       "      <th>0</th>\n",
       "      <td>5.1</td>\n",
       "      <td>3.5</td>\n",
       "      <td>1.4</td>\n",
       "      <td>0.2</td>\n",
       "      <td>setosa</td>\n",
       "    </tr>\n",
       "    <tr>\n",
       "      <th>1</th>\n",
       "      <td>4.9</td>\n",
       "      <td>3.0</td>\n",
       "      <td>1.4</td>\n",
       "      <td>0.2</td>\n",
       "      <td>setosa</td>\n",
       "    </tr>\n",
       "    <tr>\n",
       "      <th>2</th>\n",
       "      <td>4.7</td>\n",
       "      <td>3.2</td>\n",
       "      <td>1.3</td>\n",
       "      <td>0.2</td>\n",
       "      <td>setosa</td>\n",
       "    </tr>\n",
       "    <tr>\n",
       "      <th>3</th>\n",
       "      <td>4.6</td>\n",
       "      <td>3.1</td>\n",
       "      <td>1.5</td>\n",
       "      <td>0.2</td>\n",
       "      <td>setosa</td>\n",
       "    </tr>\n",
       "    <tr>\n",
       "      <th>4</th>\n",
       "      <td>5.0</td>\n",
       "      <td>3.6</td>\n",
       "      <td>1.4</td>\n",
       "      <td>0.2</td>\n",
       "      <td>setosa</td>\n",
       "    </tr>\n",
       "  </tbody>\n",
       "</table>\n",
       "</div>"
      ],
      "text/plain": [
       "   sepal_length  sepal_width  petal_length  petal_width species\n",
       "0           5.1          3.5           1.4          0.2  setosa\n",
       "1           4.9          3.0           1.4          0.2  setosa\n",
       "2           4.7          3.2           1.3          0.2  setosa\n",
       "3           4.6          3.1           1.5          0.2  setosa\n",
       "4           5.0          3.6           1.4          0.2  setosa"
      ]
     },
     "execution_count": 93,
     "metadata": {},
     "output_type": "execute_result"
    }
   ],
   "source": [
    "iris_sb = sns.load_dataset(\"iris\")\n",
    "iris_sb.head()"
   ]
  },
  {
   "cell_type": "markdown",
   "metadata": {},
   "source": [
    "## Feature Engineering"
   ]
  },
  {
   "cell_type": "code",
   "execution_count": 94,
   "metadata": {
    "collapsed": false,
    "scrolled": false
   },
   "outputs": [
    {
     "name": "stdout",
     "output_type": "stream",
     "text": [
      "[[-0.36158968  0.08226889 -0.85657211 -0.35884393]\n",
      " [ 0.65653988  0.72971237 -0.1757674  -0.07470647]\n",
      " [ 0.58099728 -0.59641809 -0.07252408 -0.54906091]\n",
      " [-0.31725455  0.32409435  0.47971899 -0.75112056]]\n",
      "[0.92461621 0.05301557 0.01718514 0.00518309]\n"
     ]
    },
    {
     "data": {
      "image/png": "[encoded data removed]",
      "text/plain": [
       "<matplotlib.figure.Figure at 0x10d7a9390>"
      ]
     },
     "metadata": {},
     "output_type": "display_data"
    }
   ],
   "source": [
    "# PCA\n",
    "from sklearn.decomposition import PCA\n",
    "import itertools\n",
    "\n",
    "pca = PCA()\n",
    "pca.fit(x)\n",
    "print(pca.components_) # each row is a prin comp\n",
    "print(pca.explained_variance_ratio_)\n",
    "\n",
    "w = np.matmul(x, pca.components_[:2,:].transpose())\n",
    "\n",
    "\n",
    "colors = itertools.cycle([\"r\", \"b\", \"g\"])\n",
    "plt.figure(1)\n",
    "for i in range(3):\n",
    "    plt.scatter(w[y==i,0],w[y==i,1], color=next(colors))\n",
    "    "
   ]
  },
  {
   "cell_type": "code",
   "execution_count": 95,
   "metadata": {
    "collapsed": false
   },
   "outputs": [
    {
     "name": "stdout",
     "output_type": "stream",
     "text": [
      "[[-0.36158968  0.08226889 -0.85657211 -0.35884393]\n",
      " [ 0.65653988  0.72971237 -0.1757674  -0.07470647]]\n"
     ]
    },
    {
     "data": {
      "image/png": "[encoded data removed]",
      "text/plain": [
       "<matplotlib.figure.Figure at 0x10dd48f10>"
      ]
     },
     "metadata": {},
     "output_type": "display_data"
    }
   ],
   "source": [
    "pca = PCA(n_components=2)\n",
    "pca.fit(x)\n",
    "print(pca.components_) # each row is a prin comp\n",
    "\n",
    "w = pca.transform(x) # same as above but rescales \n",
    "\n",
    "colors = itertools.cycle([\"r\", \"b\", \"g\"])\n",
    "plt.figure(1)\n",
    "for i in range(3):\n",
    "    plt.scatter(w[y==i,0],w[y==i,1], color=next(colors))\n",
    "    \n",
    "# w is the final feature vector"
   ]
  },
  {
   "cell_type": "markdown",
   "metadata": {},
   "source": [
    "# Clustering"
   ]
  },
  {
   "cell_type": "code",
   "execution_count": 96,
   "metadata": {
    "collapsed": false
   },
   "outputs": [
    {
     "data": {
      "image/png": "[encoded data removed]",
      "text/plain": [
       "<matplotlib.figure.Figure at 0x10dddec50>"
      ]
     },
     "metadata": {},
     "output_type": "display_data"
    }
   ],
   "source": [
    "# Kmeans \n",
    "from sklearn.cluster import KMeans\n",
    "    \n",
    "kmeans = KMeans(n_clusters=3, random_state=0).fit(w)\n",
    "l = kmeans.labels_\n",
    "#print(y)\n",
    "#print(kmeans.labels_)\n",
    "\n",
    "plt.figure(2)\n",
    "colors = itertools.cycle([\"r\", \"b\", \"g\"])\n",
    "for i in range(3):\n",
    "    plt.scatter(w[l==i,0],w[l==i,1], color=next(colors))"
   ]
  },
  {
   "cell_type": "code",
   "execution_count": 97,
   "metadata": {
    "collapsed": false
   },
   "outputs": [
    {
     "data": {
      "image/png": "[encoded data removed]",
      "text/plain": [
       "<matplotlib.figure.Figure at 0x10ce4da10>"
      ]
     },
     "metadata": {},
     "output_type": "display_data"
    }
   ],
   "source": [
    "from sklearn.cluster import DBSCAN\n",
    "\n",
    "db = DBSCAN(eps=0.3, min_samples=15).fit(w)\n",
    "#print(db.labels_)\n",
    "#print(y)\n",
    "l = db.labels_\n",
    "\n",
    "plt.figure(2)\n",
    "colors = itertools.cycle([\"r\", \"b\", \"g\", \"k\", \"m\"])\n",
    "for i in np.unique(l):\n",
    "    plt.scatter(w[l==i,0],w[l==i,1], color=next(colors))\n",
    "\n"
   ]
  },
  {
   "cell_type": "markdown",
   "metadata": {},
   "source": [
    "# Regression\n",
    "\n",
    "In this section we'll try to predict the 4th feature as if it's a regression problem."
   ]
  },
  {
   "cell_type": "code",
   "execution_count": 99,
   "metadata": {
    "collapsed": false
   },
   "outputs": [
    {
     "name": "stdout",
     "output_type": "stream",
     "text": [
      "[-0.20046458  0.26076788  0.53212463]\n",
      "0.03391110174759042\n",
      "0.944589703026813\n"
     ]
    },
    {
     "data": {
      "image/png": "[encoded data removed]",
      "text/plain": [
       "<matplotlib.figure.Figure at 0x10ce13850>"
      ]
     },
     "metadata": {},
     "output_type": "display_data"
    }
   ],
   "source": [
    "from sklearn import linear_model\n",
    "from sklearn.metrics import mean_squared_error, r2_score\n",
    "\n",
    "data_train = x[:100,0:3]\n",
    "result_train = x[:100,3]\n",
    "\n",
    "data_test = x[100:,0:3]\n",
    "result_test = x[100:,3]\n",
    "\n",
    "reg = linear_model.LinearRegression(fit_intercept=True)\n",
    "reg.fit(data_train, result_train)\n",
    "print(reg.coef_)\n",
    "\n",
    "plt.scatter(reg.predict(data_test), result_test)\n",
    "print(mean_squared_error(result_test, reg.predict(data_test)))\n",
    "print(r2_score(result_test, reg.predict(data_test)))  # pretty good"
   ]
  },
  {
   "cell_type": "code",
   "execution_count": 101,
   "metadata": {
    "collapsed": false
   },
   "outputs": [
    {
     "name": "stdout",
     "output_type": "stream",
     "text": [
      "[0.         0.         0.39062939]\n",
      "0.03574623274412204\n",
      "0.9415911229671209\n"
     ]
    },
    {
     "data": {
      "image/png": "[encoded data removed]",
      "text/plain": [
       "<matplotlib.figure.Figure at 0x10d309590>"
      ]
     },
     "metadata": {},
     "output_type": "display_data"
    }
   ],
   "source": [
    "# Ridge and Lasso\n",
    "# LASSO only\n",
    "\n",
    "data_train = x[:100,0:3]\n",
    "result_train = x[:100,3]\n",
    "\n",
    "data_test = x[100:,0:3]\n",
    "result_test = x[100:,3]\n",
    "\n",
    "reg = linear_model.Lasso(alpha = 0.1)\n",
    "reg.fit(data_train, result_train)\n",
    "print(reg.coef_)\n",
    "\n",
    "plt.scatter(reg.predict(data_test), result_test)\n",
    "print(mean_squared_error(result_test, reg.predict(data_test)))\n",
    "print(r2_score(result_test, reg.predict(data_test)))  # great\n",
    "\n",
    "# The result is MUCH more sparse, only uses feat 3"
   ]
  },
  {
   "cell_type": "markdown",
   "metadata": {},
   "source": [
    "# Classification"
   ]
  },
  {
   "cell_type": "code",
   "execution_count": 128,
   "metadata": {
    "collapsed": false
   },
   "outputs": [
    {
     "name": "stdout",
     "output_type": "stream",
     "text": [
      "0.94\n",
      "[1.         0.88888889 0.91891892]\n"
     ]
    }
   ],
   "source": [
    "# Logistic regression classification\n",
    "from sklearn import linear_model\n",
    "from sklearn.metrics import f1_score\n",
    "\n",
    "#scaler = StandardScaler()\n",
    "#scaler.fit(x) \n",
    "#x_scaled = scaler.transform(x)\n",
    "\n",
    "# x and y are the data\n",
    "x_train = x[:100]\n",
    "y_train = y[:100]\n",
    "\n",
    "x_test = x[100:]\n",
    "y_test = y[100:]\n",
    "\n",
    "logreg = linear_model.LogisticRegression(C=1e5)\n",
    "logreg.fit(x_train, y_train)\n",
    "\n",
    "#print(logreg.predict(x_test))\n",
    "print(logreg.score(x_test, y_test)) # 94% accurate, not bad\n",
    "\n",
    "print(f1_score(y_test, logreg.predict(x_test), average=None))\n",
    "\n",
    "#feature_importance = abs(logreg.coef_[0])\n",
    "#feature_importance = 100.0 * (feature_importance / feature_importance.max())\n",
    "#feature_importance"
   ]
  },
  {
   "cell_type": "markdown",
   "metadata": {},
   "source": [
    "# Automate the selection of a model"
   ]
  },
  {
   "cell_type": "code",
   "execution_count": 119,
   "metadata": {
    "collapsed": false,
    "scrolled": false
   },
   "outputs": [
    {
     "name": "stdout",
     "output_type": "stream",
     "text": [
      "Nearest Neighbors\n",
      "0.9333333333333333\n",
      "[1.         0.91891892 0.86956522]\n",
      "()\n",
      "()\n",
      "Linear SVM\n",
      "0.9111111111111111\n",
      "[1.         0.88888889 0.83333333]\n",
      "()\n",
      "()\n",
      "RBF SVM\n",
      "0.9333333333333333\n",
      "[1.         0.91891892 0.86956522]\n",
      "()\n",
      "()\n",
      "Decision Tree\n",
      "0.9111111111111111\n",
      "[1.         0.89473684 0.81818182]\n",
      "[0.02152227 0.         0.41713422 0.5613435 ]\n",
      "()\n",
      "Random Forest\n",
      "0.9111111111111111\n",
      "[1.         0.89473684 0.81818182]\n",
      "[0.21828186 0.09107865 0.25931574 0.43132375]\n",
      "()\n",
      "AdaBoost\n",
      "0.9111111111111111\n",
      "[1.         0.89473684 0.81818182]\n",
      "[0.02 0.02 0.5  0.46]\n",
      "()\n",
      "Naive Bayes\n",
      "0.9333333333333333\n",
      "[1.         0.92307692 0.85714286]\n",
      "()\n",
      "()\n",
      "QDA\n",
      "0.9555555555555556\n",
      "[1.         0.94444444 0.91666667]\n",
      "()\n",
      "()\n"
     ]
    }
   ],
   "source": [
    "from sklearn.cross_validation import train_test_split\n",
    "from sklearn.preprocessing import StandardScaler\n",
    "from sklearn.datasets import make_moons, make_circles, make_classification\n",
    "from sklearn.neighbors import KNeighborsClassifier\n",
    "from sklearn.svm import SVC\n",
    "#from sklearn.gaussian_process import GaussianProcessClassifier\n",
    "#from sklearn.gaussian_process.kernels import RBF\n",
    "from sklearn.tree import DecisionTreeClassifier\n",
    "from sklearn.ensemble import RandomForestClassifier, AdaBoostClassifier\n",
    "from sklearn.naive_bayes import GaussianNB\n",
    "from sklearn.discriminant_analysis import QuadraticDiscriminantAnalysis\n",
    "\n",
    "\n",
    "\n",
    "names = [\"Nearest Neighbors\", \"Linear SVM\", \"RBF SVM\", \n",
    "         \"Decision Tree\", \"Random Forest\", \"AdaBoost\", \"Naive Bayes\", \"QDA\"]\n",
    "\n",
    "classifiers = [\n",
    "    KNeighborsClassifier(5),\n",
    "    SVC(kernel=\"linear\", C=0.025),\n",
    "    SVC(gamma=2, C=1),\n",
    "    #GaussianProcessClassifier(1.0 * RBF(1.0)),\n",
    "    DecisionTreeClassifier(max_depth=4),\n",
    "    RandomForestClassifier(max_depth=2, n_estimators=10, max_features=1),\n",
    "    AdaBoostClassifier(),\n",
    "    GaussianNB(),\n",
    "    QuadraticDiscriminantAnalysis()]\n",
    "\n",
    "X_train, X_test, y_train, y_test = train_test_split(x, y, test_size=.3, random_state=42)\n",
    "\n",
    "# iterate over classifiers\n",
    "for name, clf in zip(names, classifiers):\n",
    "    print(name)\n",
    "    \n",
    "    clf.fit(X_train, y_train)\n",
    "    print(clf.score(X_test, y_test))\n",
    "    print(f1_score(y_test, clf.predict(X_test), average=None))\n",
    "    try:\n",
    "        print(clf.feature_importances_)\n",
    "    except AttributeError:\n",
    "        print()\n",
    "    print()"
   ]
  },
  {
   "cell_type": "code",
   "execution_count": null,
   "metadata": {
    "collapsed": true
   },
   "outputs": [],
   "source": []
  }
 ],
 "metadata": {
  "kernelspec": {
   "display_name": "Python 2",
   "language": "python",
   "name": "python2"
  },
  "language_info": {
   "codemirror_mode": {
    "name": "ipython",
    "version": 2
   },
   "file_extension": ".py",
   "mimetype": "text/x-python",
   "name": "python",
   "nbconvert_exporter": "python",
   "pygments_lexer": "ipython2",
   "version": "2.7.10"
  }
 },
 "nbformat": 4,
 "nbformat_minor": 2
}
